{
 "cells": [
  {
   "cell_type": "markdown",
   "metadata": {},
   "source": [
    "# Anaylizing the Tiatinc Survial Record\n",
    "## By: Aaron Pelton  Date: September 28, 2024\n",
    "## A review of those who lived through the titanic accident. The project examines the ages of surviors and those lost.  The project also considers what class the passagners were in."
   ]
  },
  {
   "cell_type": "code",
   "execution_count": 875,
   "metadata": {},
   "outputs": [],
   "source": [
    "import jupyterlab\n",
    "import numpy\n",
    "import pandas as pd\n",
    "import pyarrow\n",
    "import matplotlib.pyplot as plt\n",
    "import seaborn as sns"
   ]
  },
  {
   "cell_type": "code",
   "execution_count": 876,
   "metadata": {},
   "outputs": [
    {
     "name": "stdout",
     "output_type": "stream",
     "text": [
      "    survived  pclass     sex   age  sibsp  parch     fare embarked   class  \\\n",
      "0          0       3    male  22.0      1      0   7.2500        S   Third   \n",
      "1          1       1  female  38.0      1      0  71.2833        C   First   \n",
      "2          1       3  female  26.0      0      0   7.9250        S   Third   \n",
      "3          1       1  female  35.0      1      0  53.1000        S   First   \n",
      "4          0       3    male  35.0      0      0   8.0500        S   Third   \n",
      "..       ...     ...     ...   ...    ...    ...      ...      ...     ...   \n",
      "95         0       3    male   NaN      0      0   8.0500        S   Third   \n",
      "96         0       1    male  71.0      0      0  34.6542        C   First   \n",
      "97         1       1    male  23.0      0      1  63.3583        C   First   \n",
      "98         1       2  female  34.0      0      1  23.0000        S  Second   \n",
      "99         0       2    male  34.0      1      0  26.0000        S  Second   \n",
      "\n",
      "      who  adult_male deck  embark_town alive  alone  \n",
      "0     man        True  NaN  Southampton    no  False  \n",
      "1   woman       False    C    Cherbourg   yes  False  \n",
      "2   woman       False  NaN  Southampton   yes   True  \n",
      "3   woman       False    C  Southampton   yes  False  \n",
      "4     man        True  NaN  Southampton    no   True  \n",
      "..    ...         ...  ...          ...   ...    ...  \n",
      "95    man        True  NaN  Southampton    no   True  \n",
      "96    man        True    A    Cherbourg    no   True  \n",
      "97    man        True    D    Cherbourg   yes  False  \n",
      "98  woman       False  NaN  Southampton   yes  False  \n",
      "99    man        True  NaN  Southampton    no  False  \n",
      "\n",
      "[100 rows x 15 columns]\n"
     ]
    }
   ],
   "source": [
    "# Load the Titanic dataset into DataFrame\n",
    "df = sns.load_dataset('titanic')\n",
    "\n",
    "# Inspect first rows of the DataFrame\n",
    "print(df.head(100))"
   ]
  },
  {
   "cell_type": "code",
   "execution_count": 877,
   "metadata": {},
   "outputs": [
    {
     "name": "stdout",
     "output_type": "stream",
     "text": [
      "(891, 15)\n"
     ]
    }
   ],
   "source": [
    "\n",
    "print(df.shape)\n",
    "#print(df.dtypes)"
   ]
  },
  {
   "cell_type": "code",
   "execution_count": 878,
   "metadata": {},
   "outputs": [
    {
     "name": "stdout",
     "output_type": "stream",
     "text": [
      "Number of females: 314\n"
     ]
    }
   ],
   "source": [
    "# Count the number of female passengers\n",
    "fcount = (df['sex'] == 'female').sum()  \n",
    "print(f\"Number of females: {fcount}\")"
   ]
  },
  {
   "cell_type": "code",
   "execution_count": 879,
   "metadata": {},
   "outputs": [
    {
     "name": "stdout",
     "output_type": "stream",
     "text": [
      "Number of males: 577\n"
     ]
    }
   ],
   "source": [
    "# Count the number of male passengers\n",
    "mcount = (df['sex'] == 'male').sum()  \n",
    "print(f\"Number of males: {mcount}\")"
   ]
  },
  {
   "cell_type": "code",
   "execution_count": 880,
   "metadata": {},
   "outputs": [
    {
     "name": "stdout",
     "output_type": "stream",
     "text": [
      "Number of children: 83\n"
     ]
    }
   ],
   "source": [
    "# Count the number of children passengers\n",
    "ccount = (df['who'] == 'child').sum()  \n",
    "print(f\"Number of children: {ccount}\")"
   ]
  },
  {
   "cell_type": "code",
   "execution_count": 881,
   "metadata": {},
   "outputs": [
    {
     "name": "stdout",
     "output_type": "stream",
     "text": [
      " Total Numbers of Passengers: 891 \n",
      " Number of female passengers: 314 \n",
      " Number of male passengers: 577 \n",
      " Number of survivers: 342 \n",
      " Number of missing: 549 \n",
      " Number of surviving female passengers: 233 \n",
      " Number of surviving male passengers:109 \n",
      " Number of missing female passengers: 81 \n",
      " Number of missing male passengers: 468\n",
      " Number of passegners surviving 1st class: 136\n",
      " Number of passegners surviving 2nd class: 87\n",
      " Number of passegners surviving 3rd class: 119\n",
      " Number of passegners missing 1st class: 80\n",
      " Number of passegners missing 2nd class: 97\n",
      " Number of passegners missing 3rd class: 372\n"
     ]
    }
   ],
   "source": [
    "# Count the totals by classification\n",
    "\n",
    "allf = (df['sex'] == 'female').sum()\n",
    "allm = (df['sex'] == 'male').sum()\n",
    "allpas = allf + allm\n",
    "alld = (df['survived'] == 0).sum()\n",
    "allfs = ((df['sex'] == 'female') & (df['survived'] == 1)).sum()\n",
    "allms = ((df['sex'] == 'male') & (df['survived'] == 1)).sum()\n",
    "allfd = ((df['sex'] == 'female') & (df['survived'] == 0)).sum()\n",
    "allmd = ((df['sex'] == 'male') & (df['survived'] == 0)).sum()\n",
    "all1sts = ((df['class'] == 'First') & (df['survived'] == 1)).sum()\n",
    "all2nds = ((df['class'] == 'Second') & (df['survived'] == 1)).sum()\n",
    "all3rds = ((df['class'] == 'Third') & (df['survived'] == 1)).sum()\n",
    "all1std = ((df['class'] == 'First') & (df['survived'] == 0)).sum()\n",
    "all2ndd = ((df['class'] == 'Second') & (df['survived'] == 0)).sum()\n",
    "all3rdd = ((df['class'] == 'Third') & (df['survived'] == 0)).sum()\n",
    "\n",
    "print(f\" Total Numbers of Passengers: {allpas} \")\n",
    "print(f\" Number of female passengers: {allf} \")\n",
    "print(f\" Number of male passengers: {allm} \")\n",
    "print(f\" Number of survivers: {alls} \")\n",
    "print(f\" Number of missing: {alld} \")\n",
    "print(f\" Number of surviving female passengers: {allfs} \")\n",
    "print(f\" Number of surviving male passengers:{allms} \")\n",
    "print(f\" Number of missing female passengers: {allfd} \")\n",
    "print(f\" Number of missing male passengers: {allmd}\")\n",
    "print(f\" Number of passegners surviving 1st class: {all1sts}\")\n",
    "print(f\" Number of passegners surviving 2nd class: {all2nds}\")\n",
    "print(f\" Number of passegners surviving 3rd class: {all3rds}\")\n",
    "print(f\" Number of passegners missing 1st class: {all1std}\")\n",
    "print(f\" Number of passegners missing 2nd class: {all2ndd}\")\n",
    "print(f\" Number of passegners missing 3rd class: {all3rdd}\")"
   ]
  },
  {
   "cell_type": "code",
   "execution_count": 882,
   "metadata": {},
   "outputs": [
    {
     "name": "stdout",
     "output_type": "stream",
     "text": [
      " Number of children: 83 \n",
      " Number of girs: 43 \n",
      " Number of boys: 40 \n",
      " Number of surviving children: 49 \n",
      " Number of missing children: 34 \n",
      " Number of surviving girls: 28 \n",
      " Number of surviving boys: 21 \n",
      " Number of missing girls: 15 \n",
      " Number of missing boys: 19\n",
      " Number of children surviving 1st class: 5\n",
      " Number of children surviving 2nd class: 19\n",
      " Number of children surviving 3rd class: 25\n",
      " Number of children missing 1st class: 1\n",
      " Number of children missing 2nd class: 0\n",
      " Number of children missing 3rd class: 33\n"
     ]
    }
   ],
   "source": [
    "# Count of the number of children with ages between 0 and 15\n",
    "age15 = ((df['age'] >= 0) & (df['age'] <= 15)).sum()\n",
    "age15f = ((df['sex'] == 'female') & (df['age'] >= 0) & (df['age'] <= 15)).sum()\n",
    "age15m = ((df['sex'] == 'male') & (df['age'] >= 0) & (df['age'] <= 15)).sum()\n",
    "age15s = ((df['survived'] == 1) & (df['age'] >= 0) & (df['age'] <= 15)).sum()\n",
    "age15d = ((df['survived'] == 0) & (df['age'] >= 0) & (df['age'] <= 15)).sum()\n",
    "age15fs = ((df['sex'] == 'female') & (df['survived'] == 1) & (df['age'] >= 0) & (df['age'] <= 15)).sum()\n",
    "age15ms = ((df['sex'] == 'male') & (df['survived'] == 1) & (df['age'] >= 0) & (df['age'] <= 15)).sum()\n",
    "age15fd = ((df['sex'] == 'female') & (df['survived'] == 0) & (df['age'] >= 0) & (df['age'] <= 15)).sum()\n",
    "age15md = ((df['sex'] == 'male') & (df['survived'] == 0) & (df['age'] >= 0) & (df['age'] <= 15)).sum()\n",
    "age151sts = ((df['class'] == 'First') & (df['survived'] == 1) & (df['age'] >= 0) & (df['age'] <= 15)).sum()\n",
    "age152nds = ((df['class'] == 'Second') & (df['survived'] == 1) & (df['age'] >= 0) & (df['age'] <= 15)).sum()\n",
    "age153rds = ((df['class'] == 'Third') & (df['survived'] == 1) & (df['age'] >= 0) & (df['age'] <= 15)).sum()\n",
    "age151std = ((df['class'] == 'First') & (df['survived'] == 0) & (df['age'] >= 0) & (df['age'] <= 15)).sum()\n",
    "age152ndd = ((df['class'] == 'Second') & (df['survived'] == 0) & (df['age'] >= 0) & (df['age'] <= 15)).sum()\n",
    "age153rdd = ((df['class'] == 'Third') & (df['survived'] == 0) & (df['age'] >= 0) & (df['age'] <= 15)).sum()\n",
    "\n",
    "print(f\" Number of children: {age15} \")\n",
    "print(f\" Number of girs: {age15f} \")\n",
    "print(f\" Number of boys: {age15m} \")\n",
    "print(f\" Number of surviving children: {age15s} \")\n",
    "print(f\" Number of missing children: {age15d} \")\n",
    "print(f\" Number of surviving girls: {age15fs} \")\n",
    "print(f\" Number of surviving boys: {age15ms} \")\n",
    "print(f\" Number of missing girls: {age15fd} \")\n",
    "print(f\" Number of missing boys: {age15md}\")\n",
    "print(f\" Number of children surviving 1st class: {age151sts}\")\n",
    "print(f\" Number of children surviving 2nd class: {age152nds}\")\n",
    "print(f\" Number of children surviving 3rd class: {age153rds}\")\n",
    "print(f\" Number of children missing 1st class: {age151std}\")\n",
    "print(f\" Number of children missing 2nd class: {age152ndd}\")\n",
    "print(f\" Number of children missing 3rd class: {age153rdd}\")"
   ]
  },
  {
   "cell_type": "code",
   "execution_count": 883,
   "metadata": {},
   "outputs": [
    {
     "name": "stdout",
     "output_type": "stream",
     "text": [
      " Number of young adults: 326 \n",
      " Number of young women: 115 "
     ]
    },
    {
     "name": "stdout",
     "output_type": "stream",
     "text": [
      "\n",
      " Number of young men: 211 \n",
      " Number of surviving young adults: 117 \n",
      " Number of missing young adults: 209 \n",
      " Number of surviving youngwomen: 86 \n",
      " Number of surviving young men: 31 \n",
      " Number of missing young women: 29 \n",
      " Number of missing young men: 180\n",
      " Number of young adults surviving 1st class: 41\n",
      " Number of young adults surviving 2nd class: 32\n",
      " Number of young adults surviving 3rd class: 44\n",
      " Number of young adults missing 1st class: 14\n",
      " Number of young adults missing 2nd class: 45\n",
      " Number of young adults missing 3rd class: 150\n"
     ]
    }
   ],
   "source": [
    "# Count of the number of young adults with ages between 16 and 30\n",
    "age30 = ((df['age'] >= 16) & (df['age'] <= 30)).sum()\n",
    "age30f = ((df['sex'] == 'female') & (df['age'] >=16) & (df['age'] <= 30)).sum()\n",
    "age30m = ((df['sex'] == 'male') & (df['age'] >=16) & (df['age'] <= 30)).sum()\n",
    "age30s = ((df['survived'] == 1) & (df['age'] >=16) & (df['age'] <= 30)).sum()\n",
    "age30d = ((df['survived'] == 0) & (df['age'] >=16) & (df['age'] <= 30)).sum()\n",
    "age30fs = ((df['sex'] == 'female') & (df['survived'] == 1) & (df['age'] >=16) & (df['age'] <= 30)).sum()\n",
    "age30ms = ((df['sex'] == 'male') & (df['survived'] == 1) & (df['age'] >=16) & (df['age'] <= 30)).sum()\n",
    "age30fd = ((df['sex'] == 'female') & (df['survived'] == 0) & (df['age'] >=16) & (df['age'] <= 30)).sum()\n",
    "age30md = ((df['sex'] == 'male') & (df['survived'] == 0) & (df['age'] >=16) & (df['age'] <= 30)).sum()\n",
    "age301sts = ((df['class'] == 'First') & (df['survived'] == 1) & (df['age'] >=16) & (df['age'] <= 30)).sum()\n",
    "age302nds = ((df['class'] == 'Second') & (df['survived'] == 1) & (df['age'] >=16) & (df['age'] <= 30)).sum()\n",
    "age303rds = ((df['class'] == 'Third') & (df['survived'] == 1) & (df['age'] >=16) & (df['age'] <= 30)).sum()\n",
    "age301std = ((df['class'] == 'First') & (df['survived'] == 0) & (df['age'] >=16) & (df['age'] <= 30)).sum()\n",
    "age302ndd = ((df['class'] == 'Second') & (df['survived'] == 0) & (df['age'] >=16) & (df['age'] <= 30)).sum()\n",
    "age303rdd = ((df['class'] == 'Third') & (df['survived'] == 0) & (df['age'] >= 16) & (df['age'] <= 30)).sum()\n",
    "\n",
    "print(f\" Number of young adults: {age30} \")\n",
    "print(f\" Number of young women: {age30f} \")\n",
    "print(f\" Number of young men: {age30m} \")\n",
    "print(f\" Number of surviving young adults: {age30s} \")\n",
    "print(f\" Number of missing young adults: {age30d} \")\n",
    "print(f\" Number of surviving youngwomen: {age30fs} \")\n",
    "print(f\" Number of surviving young men: {age30ms} \")\n",
    "print(f\" Number of missing young women: {age30fd} \")\n",
    "print(f\" Number of missing young men: {age30md}\")\n",
    "print(f\" Number of young adults surviving 1st class: {age301sts}\")\n",
    "print(f\" Number of young adults surviving 2nd class: {age302nds}\")\n",
    "print(f\" Number of young adults surviving 3rd class: {age303rds}\")\n",
    "print(f\" Number of young adults missing 1st class: {age301std}\")\n",
    "print(f\" Number of young adults missing 2nd class: {age302ndd}\")\n",
    "print(f\" Number of young adults missing 3rd class: {age303rdd}\")\n"
   ]
  },
  {
   "cell_type": "code",
   "execution_count": 884,
   "metadata": {},
   "outputs": [
    {
     "name": "stdout",
     "output_type": "stream",
     "text": [
      " Number of adults: 200 \n",
      " Number of women: 72 \n",
      " Number of men: 128 \n",
      " Number of surviving adults: 86 \n",
      " Number of missing adults: 114 \n",
      " Number of surviving women: 57 \n",
      " Number of surviving men: 29 \n",
      " Number of missing women: 15 \n",
      " Number of missing men: 99\n",
      " Number of adults surviving 1st class: 46\n",
      " Number of adults surviving 2nd class: 25\n",
      " Number of adults surviving 3rd class: 15\n",
      " Number of adults missing 1st class: 17\n",
      " Number of adults missing 2nd class: 29\n",
      " Number of adults missing 3rd class: 68\n"
     ]
    }
   ],
   "source": [
    "# Count of the number of adults with ages between 31 and 45\n",
    "age45 = ((df['age'] >= 31) & (df['age'] <= 45)).sum()\n",
    "age45f = ((df['sex'] == 'female') & (df['age'] >=31) & (df['age'] <= 45)).sum()\n",
    "age45m = ((df['sex'] == 'male') & (df['age'] >=31) & (df['age'] <= 45)).sum()\n",
    "age45s = ((df['survived'] == 1) & (df['age'] >=31) & (df['age'] <= 45)).sum()\n",
    "age45d = ((df['survived'] == 0) & (df['age'] >=31) & (df['age'] <= 45)).sum()\n",
    "age45fs = ((df['sex'] == 'female') & (df['survived'] == 1) & (df['age'] >=31) & (df['age'] <= 45)).sum()\n",
    "age45ms = ((df['sex'] == 'male') & (df['survived'] == 1) & (df['age'] >=31) & (df['age'] <= 45)).sum()\n",
    "age45fd = ((df['sex'] == 'female') & (df['survived'] == 0) & (df['age'] >=31) & (df['age'] <= 45)).sum()\n",
    "age45md = ((df['sex'] == 'male') & (df['survived'] == 0) & (df['age'] >=31) & (df['age'] <= 45)).sum()\n",
    "age451sts = ((df['class'] == 'First') & (df['survived'] == 1) & (df['age'] >=31) & (df['age'] <= 45)).sum()\n",
    "age452nds = ((df['class'] == 'Second') & (df['survived'] == 1) & (df['age'] >=31) & (df['age'] <= 45)).sum()\n",
    "age453rds = ((df['class'] == 'Third') & (df['survived'] == 1) & (df['age'] >=31) & (df['age'] <= 45)).sum()\n",
    "age451std = ((df['class'] == 'First') & (df['survived'] == 0) & (df['age'] >=31) & (df['age'] <= 45)).sum()\n",
    "age452ndd = ((df['class'] == 'Second') & (df['survived'] == 0) & (df['age'] >=31) & (df['age'] <= 45)).sum()\n",
    "age453rdd = ((df['class'] == 'Third') & (df['survived'] == 0) & (df['age'] >= 31) & (df['age'] <= 45)).sum()\n",
    "\n",
    "print(f\" Number of adults: {age45} \")\n",
    "print(f\" Number of women: {age45f} \")\n",
    "print(f\" Number of men: {age45m} \")\n",
    "print(f\" Number of surviving adults: {age45s} \")\n",
    "print(f\" Number of missing adults: {age45d} \")\n",
    "print(f\" Number of surviving women: {age45fs} \")\n",
    "print(f\" Number of surviving men: {age45ms} \")\n",
    "print(f\" Number of missing women: {age45fd} \")\n",
    "print(f\" Number of missing men: {age45md}\")\n",
    "print(f\" Number of adults surviving 1st class: {age451sts}\")\n",
    "print(f\" Number of adults surviving 2nd class: {age452nds}\")\n",
    "print(f\" Number of adults surviving 3rd class: {age453rds}\")\n",
    "print(f\" Number of adults missing 1st class: {age451std}\")\n",
    "print(f\" Number of adults missing 2nd class: {age452ndd}\")\n",
    "print(f\" Number of adults missing 3rd class: {age453rdd}\")"
   ]
  },
  {
   "cell_type": "code",
   "execution_count": 885,
   "metadata": {},
   "outputs": [
    {
     "name": "stdout",
     "output_type": "stream",
     "text": [
      " Number of adults: 79 \n",
      " Number of women: 27 \n",
      " Number of men: 52 \n",
      " Number of surviving adults: 33 \n",
      " Number of missing adults: 46 \n",
      " Number of surviving women: 23 \n",
      " Number of surviving men: 10 \n",
      " Number of missing women: 4 \n",
      " Number of missing men: 42\n",
      " Number of adults surviving 1st class: 27\n",
      " Number of adults surviving 2nd class: 6\n",
      " Number of adults surviving 3rd class: 0\n",
      " Number of adults missing 1st class: 20\n",
      " Number of adults missing 2nd class: 14\n",
      " Number of adults missing 3rd class: 12\n"
     ]
    }
   ],
   "source": [
    "# Count of the number of adults with ages between 46 and 60\n",
    "age60 = ((df['age'] >= 46) & (df['age'] <= 60)).sum()\n",
    "age60f = ((df['sex'] == 'female') & (df['age'] >=46) & (df['age'] <= 60)).sum()\n",
    "age60m = ((df['sex'] == 'male') & (df['age'] >=46) & (df['age'] <= 60)).sum()\n",
    "age60s = ((df['survived'] == 1) & (df['age'] >=46) & (df['age'] <= 60)).sum()\n",
    "age60d = ((df['survived'] == 0) & (df['age'] >=46) & (df['age'] <= 60)).sum()\n",
    "age60fs = ((df['sex'] == 'female') & (df['survived'] == 1) & (df['age'] >=46) & (df['age'] <= 60)).sum()\n",
    "age60ms = ((df['sex'] == 'male') & (df['survived'] == 1) & (df['age'] >=46) & (df['age'] <= 60)).sum()\n",
    "age60fd = ((df['sex'] == 'female') & (df['survived'] == 0) & (df['age'] >=46) & (df['age'] <= 60)).sum()\n",
    "age60md = ((df['sex'] == 'male') & (df['survived'] == 0) & (df['age'] >=46) & (df['age'] <= 60)).sum()\n",
    "age601sts = ((df['class'] == 'First') & (df['survived'] == 1) & (df['age'] >=46) & (df['age'] <= 60)).sum()\n",
    "age602nds = ((df['class'] == 'Second') & (df['survived'] == 1) & (df['age'] >=46) & (df['age'] <= 60)).sum()\n",
    "age603rds = ((df['class'] == 'Third') & (df['survived'] == 1) & (df['age'] >=46) & (df['age'] <= 60)).sum()\n",
    "age601std = ((df['class'] == 'First') & (df['survived'] == 0) & (df['age'] >=46) & (df['age'] <= 60)).sum()\n",
    "age602ndd = ((df['class'] == 'Second') & (df['survived'] == 0) & (df['age'] >=46) & (df['age'] <= 60)).sum()\n",
    "age603rdd = ((df['class'] == 'Third') & (df['survived'] == 0) & (df['age'] >= 46) & (df['age'] <= 60)).sum()\n",
    "\n",
    "print(f\" Number of adults: {age60} \")\n",
    "print(f\" Number of women: {age60f} \")\n",
    "print(f\" Number of men: {age60m} \")\n",
    "print(f\" Number of surviving adults: {age60s} \")\n",
    "print(f\" Number of missing adults: {age60d} \")\n",
    "print(f\" Number of surviving women: {age60fs} \")\n",
    "print(f\" Number of surviving men: {age60ms} \")\n",
    "print(f\" Number of missing women: {age60fd} \")\n",
    "print(f\" Number of missing men: {age60md}\")\n",
    "print(f\" Number of adults surviving 1st class: {age601sts}\")\n",
    "print(f\" Number of adults surviving 2nd class: {age602nds}\")\n",
    "print(f\" Number of adults surviving 3rd class: {age603rds}\")\n",
    "print(f\" Number of adults missing 1st class: {age601std}\")\n",
    "print(f\" Number of adults missing 2nd class: {age602ndd}\")\n",
    "print(f\" Number of adults missing 3rd class: {age603rdd}\")"
   ]
  },
  {
   "cell_type": "code",
   "execution_count": 886,
   "metadata": {},
   "outputs": [
    {
     "name": "stdout",
     "output_type": "stream",
     "text": [
      " Number of adults: 22 \n",
      " Number of women: 3 \n",
      " Number of men: 19 \n",
      " Number of surviving adults: 5 \n",
      " Number of missing adults: 17 \n",
      " Number of surviving women: 3 \n",
      " Number of surviving men: 2 \n",
      " Number of missing women: 0 \n",
      " Number of missing men: 17\n",
      " Number of adults surviving 1st class: 3\n",
      " Number of adults surviving 2nd class: 1\n",
      " Number of adults surviving 3rd class: 1\n",
      " Number of adults missing 1st class: 11\n",
      " Number of adults missing 2nd class: 2\n",
      " Number of adults missing 3rd class: 4\n"
     ]
    }
   ],
   "source": [
    "# Count of the number of adults with ages between 61 and 80\n",
    "age80 = ((df['age'] >= 61) & (df['age'] <= 80)).sum()\n",
    "age80f = ((df['sex'] == 'female') & (df['age'] >=61) & (df['age'] <= 80)).sum()\n",
    "age80m = ((df['sex'] == 'male') & (df['age'] >=61) & (df['age'] <= 80)).sum()\n",
    "age80s = ((df['survived'] == 1) & (df['age'] >=61) & (df['age'] <= 80)).sum()\n",
    "age80d = ((df['survived'] == 0) & (df['age'] >=61) & (df['age'] <= 80)).sum()\n",
    "age80fs = ((df['sex'] == 'female') & (df['survived'] == 1) & (df['age'] >=61) & (df['age'] <= 80)).sum()\n",
    "age80ms = ((df['sex'] == 'male') & (df['survived'] == 1) & (df['age'] >=61) & (df['age'] <= 80)).sum()\n",
    "age80fd = ((df['sex'] == 'female') & (df['survived'] == 0) & (df['age'] >=61) & (df['age'] <= 80)).sum()\n",
    "age80md = ((df['sex'] == 'male') & (df['survived'] == 0) & (df['age'] >=61) & (df['age'] <= 80)).sum()\n",
    "age801sts = ((df['class'] == 'First') & (df['survived'] == 1) & (df['age'] >=61) & (df['age'] <= 80)).sum()\n",
    "age802nds = ((df['class'] == 'Second') & (df['survived'] == 1) & (df['age'] >=61) & (df['age'] <= 80)).sum()\n",
    "age803rds = ((df['class'] == 'Third') & (df['survived'] == 1) & (df['age'] >=61) & (df['age'] <= 80)).sum()\n",
    "age801std = ((df['class'] == 'First') & (df['survived'] == 0) & (df['age'] >=61) & (df['age'] <= 80)).sum()\n",
    "age802ndd = ((df['class'] == 'Second') & (df['survived'] == 0) & (df['age'] >=61) & (df['age'] <= 80)).sum()\n",
    "age803rdd = ((df['class'] == 'Third') & (df['survived'] == 0) & (df['age'] >= 61) & (df['age'] <= 80)).sum()\n",
    "\n",
    "print(f\" Number of adults: {age80} \")\n",
    "print(f\" Number of women: {age80f} \")\n",
    "print(f\" Number of men: {age80m} \")\n",
    "print(f\" Number of surviving adults: {age80s} \")\n",
    "print(f\" Number of missing adults: {age80d} \")\n",
    "print(f\" Number of surviving women: {age80fs} \")\n",
    "print(f\" Number of surviving men: {age80ms} \")\n",
    "print(f\" Number of missing women: {age80fd} \")\n",
    "print(f\" Number of missing men: {age80md}\")\n",
    "print(f\" Number of adults surviving 1st class: {age801sts}\")\n",
    "print(f\" Number of adults surviving 2nd class: {age802nds}\")\n",
    "print(f\" Number of adults surviving 3rd class: {age803rds}\")\n",
    "print(f\" Number of adults missing 1st class: {age801std}\")\n",
    "print(f\" Number of adults missing 2nd class: {age802ndd}\")\n",
    "print(f\" Number of adults missing 3rd class: {age803rdd}\")"
   ]
  },
  {
   "cell_type": "code",
   "execution_count": 887,
   "metadata": {},
   "outputs": [
    {
     "name": "stdout",
     "output_type": "stream",
     "text": [
      " Number of adults with no age recorded: 177 \n",
      " Number of women with no age recorded: 53 \n",
      " Number of men of men with not age recorded: 124 \n",
      " Number of surviving adults with no age recorded: 52 \n",
      " Number of missing adults with no age recorded: 125 \n",
      " Number of surviving women with no age recorded: 36 \n",
      " Number of surviving men with no age recorded: 16 \n",
      " Number of missing women with no age recorded: 17 \n",
      " Number of missing men with not age recorded: 108\n",
      " Number of adults surviving 1st class with no age recorded: 14\n",
      " Number of adults surviving 2nd class with no age recorded: 4\n",
      " Number of adults surviving 3rd class with no age recorded: 34\n",
      " Number of adults missing 1st class with no age recorded: 16\n",
      " Number of adults missing 2nd class with no age recorded: 7\n",
      " Number of adults missing 3rd class with no age recorded: 102\n"
     ]
    }
   ],
   "source": [
    "# Count the number of adults with ages between 61 and 80\n",
    "agenone =  df['age'].isna().sum() + (df['age'] == \"\").sum() \n",
    "agenonef = df[(df['sex'] == 'female') & (df['age'].isna() | (df['age'] == \"\"))].shape[0]\n",
    "agenonem = df[(df['sex'] == 'male') & (df['age'].isna() | (df['age'] == \"\"))].shape[0]\n",
    "\n",
    "#agenonem = ((df['sex'] == 'male') & df['age'].isna().sum() + (df['age'] == \"\")).sum()\n",
    "agenones = df[(df['survived'] == 1) & (df['age'].isna() | (df['age'] == \"\"))].shape[0]\n",
    "agenoned  = df[(df['survived'] == 0) & (df['age'].isna() | (df['age'] == \"\"))].shape[0]\n",
    "agenonefs = df[(df['sex'] == 'female') & (df['survived'] == 1) & (df['age'].isna() | (df['age'] == \"\"))].shape[0]\n",
    "agenonems = df[(df['sex'] == 'male') & (df['survived'] == 1) & (df['age'].isna() | (df['age'] == \"\"))].shape[0]\n",
    "agenonefd = df[(df['sex'] == 'female') & (df['survived'] == 0) & (df['age'].isna() | (df['age'] == \"\"))].shape[0]\n",
    "agenonemd = df[(df['sex'] == 'male') & (df['survived'] == 0) & (df['age'].isna() | (df['age'] == \"\"))].shape[0]\n",
    "agenone1sts = df[(df['class'] == 'First') & (df['survived'] == 1) & (df['age'].isna() | (df['age'] == \"\"))].shape[0]\n",
    "agenone2nds = df[(df['class'] == 'Second') & (df['survived'] == 1) & (df['age'].isna() | (df['age'] == \"\"))].shape[0]\n",
    "agenone3rds = df[(df['class'] == 'Third') & (df['survived'] == 1) & (df['age'].isna() | (df['age'] == \"\"))].shape[0]\n",
    "agenone1std = df[(df['class'] == 'First') & (df['survived'] == 0) & (df['age'].isna() | (df['age'] == \"\"))].shape[0]\n",
    "agenone2ndd = df[(df['class'] == 'Second') & (df['survived'] == 0) & (df['age'].isna() | (df['age'] == \"\"))].shape[0]\n",
    "agenone3rdd = df[(df['class'] == 'Third') & (df['survived'] == 0) & (df['age'].isna() | (df['age'] == \"\"))].shape[0]\n",
    "\n",
    "print(f\" Number of adults with no age recorded: {agenone} \")\n",
    "print(f\" Number of women with no age recorded: {agenonef} \")\n",
    "print(f\" Number of men of men with not age recorded: {agenonem} \")\n",
    "print(f\" Number of surviving adults with no age recorded: {agenones} \")\n",
    "print(f\" Number of missing adults with no age recorded: {agenoned} \")\n",
    "print(f\" Number of surviving women with no age recorded: {agenonefs} \")\n",
    "print(f\" Number of surviving men with no age recorded: {agenonems} \")\n",
    "print(f\" Number of missing women with no age recorded: {agenonefd} \")\n",
    "print(f\" Number of missing men with not age recorded: {agenonemd}\")\n",
    "print(f\" Number of adults surviving 1st class with no age recorded: {agenone1sts}\")\n",
    "print(f\" Number of adults surviving 2nd class with no age recorded: {agenone2nds}\")\n",
    "print(f\" Number of adults surviving 3rd class with no age recorded: {agenone3rds}\")\n",
    "print(f\" Number of adults missing 1st class with no age recorded: {agenone1std}\")\n",
    "print(f\" Number of adults missing 2nd class with no age recorded: {agenone2ndd}\")\n",
    "print(f\" Number of adults missing 3rd class with no age recorded: {agenone3rdd}\")"
   ]
  },
  {
   "cell_type": "code",
   "execution_count": 889,
   "metadata": {},
   "outputs": [],
   "source": [
    "# Example DataFrame\n",
    "data = {\n",
    "    'Age Group': ['Age 1 - 15', 'Age 16 - 30', 'Age 31 - 45', 'Age 46 - 60', 'Age 61 - 80', 'No Age Recorded'],\n",
    "    'Count': [age15, age30, age45, age60, age80, agenone]\n",
    "}\n",
    "df = pd.DataFrame(data)"
   ]
  },
  {
   "cell_type": "code",
   "execution_count": 890,
   "metadata": {},
   "outputs": [
    {
     "data": {
      "image/png": "[encoded data removed]",
      "text/plain": [
       "<Figure size 640x480 with 1 Axes>"
      ]
     },
     "metadata": {},
     "output_type": "display_data"
    }
   ],
   "source": [
    "# Calculate total count and percentages\n",
    "total_count = df['Count'].sum()\n",
    "df['Percentage'] = (df['Count'] / total_count) * 100\n",
    "\n",
    "# Create the bar chart\n",
    "plt.bar(df['Age Group'], df['Count'], color='skyblue')\n",
    "\n",
    "# Add count and percentage labels on top of the bars\n",
    "for index, row in df.iterrows():\n",
    "    plt.text(row['Age Group'], row['Count'] + 0.5, \n",
    "             f\"{row['Count']} ({row['Percentage']:.1f}%)\", \n",
    "             ha='center', va='bottom')\n",
    "    \n",
    "plt.bar(df['Age Group'], df['Count'], color='skyblue')\n",
    "plt.xlabel('Age Group')\n",
    "plt.ylabel('Number of Passengers')\n",
    "plt.title('Passengers by age')\n",
    "plt.xticks(rotation=45)\n",
    "plt.tight_layout()  # Adjust layout to prevent clipping\n",
    "plt.show()"
   ]
  },
  {
   "cell_type": "code",
   "execution_count": 891,
   "metadata": {},
   "outputs": [
    {
     "name": "stderr",
     "output_type": "stream",
     "text": [
      "C:\\Users\\User\\AppData\\Local\\Temp\\ipykernel_10992\\2891840779.py:15: FutureWarning: The default of observed=False is deprecated and will be changed to True in a future version of pandas. Pass observed=False to retain current behavior or observed=True to adopt the future default and silence this warning.\n",
      "  counts = df.groupby(['age_group', 'sex']).size().unstack(fill_value=0)\n"
     ]
    },
    {
     "data": {
      "image/png": "[encoded data removed]",
      "text/plain": [
       "<Figure size 640x480 with 1 Axes>"
      ]
     },
     "metadata": {},
     "output_type": "display_data"
    }
   ],
   "source": [
    "data = {\n",
    "    'sex': ['female', 'male', 'female', 'male', 'female', 'male'],\n",
    "    'age': [age15, age30, age45, age60, age80, agenone]\n",
    "}\n",
    "df = pd.DataFrame(data)\n",
    "\n",
    "# Define age groups\n",
    "age_bins = [0, 15, 30, 45, 60, 80]\n",
    "age_labels = ['0-15', '16-30', '31-45', '46-60', '61-80']\n",
    "\n",
    "# Create a new column for age groups\n",
    "df['age_group'] = pd.cut(df['age'], bins=age_bins, labels=age_labels, right=False)\n",
    "\n",
    "# Count males and females in each age group\n",
    "counts = df.groupby(['age_group', 'sex']).size().unstack(fill_value=0)\n",
    "\n",
    "# Plotting\n",
    "counts.plot(kind='bar', stacked=False, color=['skyblue', 'salmon'])\n",
    "plt.xlabel('Age Group')\n",
    "plt.ylabel('Number of Passengers')\n",
    "plt.title('Number of Male and Female Passengers by Age Group')\n",
    "plt.xticks(rotation=45)\n",
    "plt.legend(title='Sex')\n",
    "plt.tight_layout()\n",
    "plt.show()"
   ]
  }
 ],
 "metadata": {
  "kernelspec": {
   "display_name": ".venv",
   "language": "python",
   "name": "python3"
  },
  "language_info": {
   "codemirror_mode": {
    "name": "ipython",
    "version": 3
   },
   "file_extension": ".py",
   "mimetype": "text/x-python",
   "name": "python",
   "nbconvert_exporter": "python",
   "pygments_lexer": "ipython3",
   "version": "3.12.5"
  }
 },
 "nbformat": 4,
 "nbformat_minor": 2
}
