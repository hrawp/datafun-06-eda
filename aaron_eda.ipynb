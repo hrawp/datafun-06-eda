{
 "cells": [
  {
   "cell_type": "markdown",
   "metadata": {},
   "source": [
    "## Anaylizing the Tiatinc Survial Record\n",
    "## By: Aaron Pelton  Date: September 28, 2024\n",
    "## A review of who lived through the titanic accident. The project examines the ages of surviors and those lost.  The project also considers what class the passagners were in."
   ]
  }
 ],
 "metadata": {
  "kernelspec": {
   "display_name": ".venv",
   "language": "python",
   "name": "python3"
  },
  "language_info": {
   "name": "python",
   "version": "3.12.5"
  }
 },
 "nbformat": 4,
 "nbformat_minor": 2
}
